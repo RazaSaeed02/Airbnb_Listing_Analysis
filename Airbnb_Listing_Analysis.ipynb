{
 "cells": [
  {
   "cell_type": "markdown",
   "id": "fc15897d",
   "metadata": {},
   "source": [
    "# Airbnb Listing Analysis"
   ]
  },
  {
   "cell_type": "markdown",
   "id": "6d8c9c3e",
   "metadata": {},
   "source": [
    "### Scenario"
   ]
  },
  {
   "cell_type": "markdown",
   "id": "367bdc7a",
   "metadata": {},
   "source": [
    "As Airbnb has grown in popularity, it has increasingly become the focus of regulations designed to limit the number of properties listed in each city."
   ]
  },
  {
   "cell_type": "markdown",
   "id": "473e9612",
   "metadata": {},
   "source": [
    "### Objective\n",
    "\n",
    "##### Analyze Paris listings\n",
    "\n",
    "- What are the factors affecting pricing? \n",
    "- Did regulations adopted in 2015 impact the number of listings in the market?"
   ]
  },
  {
   "cell_type": "markdown",
   "id": "2780d8e1",
   "metadata": {},
   "source": [
    "### Workflow\n",
    "\n",
    "1. Explore and profile the data to correct any data quality issues\n",
    "2. Prepare and reformat the data for visualization\n",
    "3. Visualize the data and identify key insights and recommendations"
   ]
  },
  {
   "cell_type": "markdown",
   "id": "d84184c2",
   "metadata": {},
   "source": [
    "#### Import Libraries"
   ]
  },
  {
   "cell_type": "code",
   "execution_count": 141,
   "id": "223d85f3",
   "metadata": {},
   "outputs": [],
   "source": [
    "import numpy as np\n",
    "import pandas as pd\n",
    "import matplotlib.pyplot as plt\n",
    "%matplotlib inline"
   ]
  },
  {
   "cell_type": "code",
   "execution_count": 142,
   "id": "321ef29c",
   "metadata": {},
   "outputs": [],
   "source": [
    "# Show all rows and columns\n",
    "pd.set_option('display.max_rows', None)\n",
    "pd.set_option('display.max_columns', None)\n",
    "# pd.set_option('display.float_format',  '{:,.3f}'.format)"
   ]
  },
  {
   "cell_type": "code",
   "execution_count": 143,
   "id": "56e86ee5",
   "metadata": {},
   "outputs": [],
   "source": [
    "# Suppress warnings\n",
    "import warnings\n",
    "warnings.filterwarnings('ignore')"
   ]
  },
  {
   "cell_type": "markdown",
   "id": "3133ad40",
   "metadata": {},
   "source": [
    "#### Import Dataset"
   ]
  },
  {
   "cell_type": "code",
   "execution_count": 144,
   "id": "f7510bd9",
   "metadata": {},
   "outputs": [],
   "source": [
    "listings = pd.read_csv('Airbnb+Data/Airbnb Data/Listings.csv', encoding='ISO-8859-1', \n",
    "                       low_memory=False, parse_dates=['host_since'])"
   ]
  },
  {
   "cell_type": "code",
   "execution_count": 145,
   "id": "cb435fa5",
   "metadata": {},
   "outputs": [
    {
     "data": {
      "text/html": [
       "<div>\n",
       "<style scoped>\n",
       "    .dataframe tbody tr th:only-of-type {\n",
       "        vertical-align: middle;\n",
       "    }\n",
       "\n",
       "    .dataframe tbody tr th {\n",
       "        vertical-align: top;\n",
       "    }\n",
       "\n",
       "    .dataframe thead th {\n",
       "        text-align: right;\n",
       "    }\n",
       "</style>\n",
       "<table border=\"1\" class=\"dataframe\">\n",
       "  <thead>\n",
       "    <tr style=\"text-align: right;\">\n",
       "      <th></th>\n",
       "      <th>listing_id</th>\n",
       "      <th>name</th>\n",
       "      <th>host_id</th>\n",
       "      <th>host_since</th>\n",
       "      <th>host_location</th>\n",
       "      <th>host_response_time</th>\n",
       "      <th>host_response_rate</th>\n",
       "      <th>host_acceptance_rate</th>\n",
       "      <th>host_is_superhost</th>\n",
       "      <th>host_total_listings_count</th>\n",
       "      <th>host_has_profile_pic</th>\n",
       "      <th>host_identity_verified</th>\n",
       "      <th>neighbourhood</th>\n",
       "      <th>district</th>\n",
       "      <th>city</th>\n",
       "      <th>latitude</th>\n",
       "      <th>longitude</th>\n",
       "      <th>property_type</th>\n",
       "      <th>room_type</th>\n",
       "      <th>accommodates</th>\n",
       "      <th>bedrooms</th>\n",
       "      <th>amenities</th>\n",
       "      <th>price</th>\n",
       "      <th>minimum_nights</th>\n",
       "      <th>maximum_nights</th>\n",
       "      <th>review_scores_rating</th>\n",
       "      <th>review_scores_accuracy</th>\n",
       "      <th>review_scores_cleanliness</th>\n",
       "      <th>review_scores_checkin</th>\n",
       "      <th>review_scores_communication</th>\n",
       "      <th>review_scores_location</th>\n",
       "      <th>review_scores_value</th>\n",
       "      <th>instant_bookable</th>\n",
       "    </tr>\n",
       "  </thead>\n",
       "  <tbody>\n",
       "    <tr>\n",
       "      <th>0</th>\n",
       "      <td>281420</td>\n",
       "      <td>Beautiful Flat in le Village Montmartre, Paris</td>\n",
       "      <td>1466919</td>\n",
       "      <td>2011-12-03</td>\n",
       "      <td>Paris, Ile-de-France, France</td>\n",
       "      <td>NaN</td>\n",
       "      <td>NaN</td>\n",
       "      <td>NaN</td>\n",
       "      <td>f</td>\n",
       "      <td>1.0</td>\n",
       "      <td>t</td>\n",
       "      <td>f</td>\n",
       "      <td>Buttes-Montmartre</td>\n",
       "      <td>NaN</td>\n",
       "      <td>Paris</td>\n",
       "      <td>48.88668</td>\n",
       "      <td>2.33343</td>\n",
       "      <td>Entire apartment</td>\n",
       "      <td>Entire place</td>\n",
       "      <td>2</td>\n",
       "      <td>1.0</td>\n",
       "      <td>[\"Heating\", \"Kitchen\", \"Washer\", \"Wifi\", \"Long...</td>\n",
       "      <td>53</td>\n",
       "      <td>2</td>\n",
       "      <td>1125</td>\n",
       "      <td>100.0</td>\n",
       "      <td>10.0</td>\n",
       "      <td>10.0</td>\n",
       "      <td>10.0</td>\n",
       "      <td>10.0</td>\n",
       "      <td>10.0</td>\n",
       "      <td>10.0</td>\n",
       "      <td>f</td>\n",
       "    </tr>\n",
       "    <tr>\n",
       "      <th>1</th>\n",
       "      <td>3705183</td>\n",
       "      <td>39 mÃÂ² Paris (Sacre CÃ",
       "âur)</td>\n",
       "      <td>10328771</td>\n",
       "      <td>2013-11-29</td>\n",
       "      <td>Paris, Ile-de-France, France</td>\n",
       "      <td>NaN</td>\n",
       "      <td>NaN</td>\n",
       "      <td>NaN</td>\n",
       "      <td>f</td>\n",
       "      <td>1.0</td>\n",
       "      <td>t</td>\n",
       "      <td>t</td>\n",
       "      <td>Buttes-Montmartre</td>\n",
       "      <td>NaN</td>\n",
       "      <td>Paris</td>\n",
       "      <td>48.88617</td>\n",
       "      <td>2.34515</td>\n",
       "      <td>Entire apartment</td>\n",
       "      <td>Entire place</td>\n",
       "      <td>2</td>\n",
       "      <td>1.0</td>\n",
       "      <td>[\"Shampoo\", \"Heating\", \"Kitchen\", \"Essentials\"...</td>\n",
       "      <td>120</td>\n",
       "      <td>2</td>\n",
       "      <td>1125</td>\n",
       "      <td>100.0</td>\n",
       "      <td>10.0</td>\n",
       "      <td>10.0</td>\n",
       "      <td>10.0</td>\n",
       "      <td>10.0</td>\n",
       "      <td>10.0</td>\n",
       "      <td>10.0</td>\n",
       "      <td>f</td>\n",
       "    </tr>\n",
       "    <tr>\n",
       "      <th>2</th>\n",
       "      <td>4082273</td>\n",
       "      <td>Lovely apartment with Terrace, 60m2</td>\n",
       "      <td>19252768</td>\n",
       "      <td>2014-07-31</td>\n",
       "      <td>Paris, Ile-de-France, France</td>\n",
       "      <td>NaN</td>\n",
       "      <td>NaN</td>\n",
       "      <td>NaN</td>\n",
       "      <td>f</td>\n",
       "      <td>1.0</td>\n",
       "      <td>t</td>\n",
       "      <td>f</td>\n",
       "      <td>Elysee</td>\n",
       "      <td>NaN</td>\n",
       "      <td>Paris</td>\n",
       "      <td>48.88112</td>\n",
       "      <td>2.31712</td>\n",
       "      <td>Entire apartment</td>\n",
       "      <td>Entire place</td>\n",
       "      <td>2</td>\n",
       "      <td>1.0</td>\n",
       "      <td>[\"Heating\", \"TV\", \"Kitchen\", \"Washer\", \"Wifi\",...</td>\n",
       "      <td>89</td>\n",
       "      <td>2</td>\n",
       "      <td>1125</td>\n",
       "      <td>100.0</td>\n",
       "      <td>10.0</td>\n",
       "      <td>10.0</td>\n",
       "      <td>10.0</td>\n",
       "      <td>10.0</td>\n",
       "      <td>10.0</td>\n",
       "      <td>10.0</td>\n",
       "      <td>f</td>\n",
       "    </tr>\n",
       "  </tbody>\n",
       "</table>\n",
       "</div>"
      ],
      "text/plain": [
       "   listing_id                                            name   host_id  \\\n",
       "0      281420  Beautiful Flat in le Village Montmartre, Paris   1466919   \n",
       "1     3705183                 39 mÃÂ² Paris (Sacre CÃ\n",
       "âur)  10328771   \n",
       "2     4082273             Lovely apartment with Terrace, 60m2  19252768   \n",
       "\n",
       "  host_since                 host_location host_response_time  \\\n",
       "0 2011-12-03  Paris, Ile-de-France, France                NaN   \n",
       "1 2013-11-29  Paris, Ile-de-France, France                NaN   \n",
       "2 2014-07-31  Paris, Ile-de-France, France                NaN   \n",
       "\n",
       "   host_response_rate  host_acceptance_rate host_is_superhost  \\\n",
       "0                 NaN                   NaN                 f   \n",
       "1                 NaN                   NaN                 f   \n",
       "2                 NaN                   NaN                 f   \n",
       "\n",
       "   host_total_listings_count host_has_profile_pic host_identity_verified  \\\n",
       "0                        1.0                    t                      f   \n",
       "1                        1.0                    t                      t   \n",
       "2                        1.0                    t                      f   \n",
       "\n",
       "       neighbourhood district   city  latitude  longitude     property_type  \\\n",
       "0  Buttes-Montmartre      NaN  Paris  48.88668    2.33343  Entire apartment   \n",
       "1  Buttes-Montmartre      NaN  Paris  48.88617    2.34515  Entire apartment   \n",
       "2             Elysee      NaN  Paris  48.88112    2.31712  Entire apartment   \n",
       "\n",
       "      room_type  accommodates  bedrooms  \\\n",
       "0  Entire place             2       1.0   \n",
       "1  Entire place             2       1.0   \n",
       "2  Entire place             2       1.0   \n",
       "\n",
       "                                           amenities  price  minimum_nights  \\\n",
       "0  [\"Heating\", \"Kitchen\", \"Washer\", \"Wifi\", \"Long...     53               2   \n",
       "1  [\"Shampoo\", \"Heating\", \"Kitchen\", \"Essentials\"...    120               2   \n",
       "2  [\"Heating\", \"TV\", \"Kitchen\", \"Washer\", \"Wifi\",...     89               2   \n",
       "\n",
       "   maximum_nights  review_scores_rating  review_scores_accuracy  \\\n",
       "0            1125                 100.0                    10.0   \n",
       "1            1125                 100.0                    10.0   \n",
       "2            1125                 100.0                    10.0   \n",
       "\n",
       "   review_scores_cleanliness  review_scores_checkin  \\\n",
       "0                       10.0                   10.0   \n",
       "1                       10.0                   10.0   \n",
       "2                       10.0                   10.0   \n",
       "\n",
       "   review_scores_communication  review_scores_location  review_scores_value  \\\n",
       "0                         10.0                    10.0                 10.0   \n",
       "1                         10.0                    10.0                 10.0   \n",
       "2                         10.0                    10.0                 10.0   \n",
       "\n",
       "  instant_bookable  \n",
       "0                f  \n",
       "1                f  \n",
       "2                f  "
      ]
     },
     "execution_count": 145,
     "metadata": {},
     "output_type": "execute_result"
    }
   ],
   "source": [
    "# See first 3 rows\n",
    "listings.head(3)"
   ]
  },
  {
   "cell_type": "code",
   "execution_count": 146,
   "id": "9ce443d0",
   "metadata": {},
   "outputs": [
    {
     "data": {
      "text/plain": [
       "(279712, 33)"
      ]
     },
     "execution_count": 146,
     "metadata": {},
     "output_type": "execute_result"
    }
   ],
   "source": [
    "# How many rows and how many columns\n",
    "listings.shape"
   ]
  },
  {
   "cell_type": "markdown",
   "id": "3fa18ed8",
   "metadata": {},
   "source": [
    "##### Observations\n",
    "- There are roughly 279,700 listings in the dataset"
   ]
  },
  {
   "cell_type": "code",
   "execution_count": 147,
   "id": "02f57d8d",
   "metadata": {},
   "outputs": [
    {
     "data": {
      "text/plain": [
       "listing_id                              int64\n",
       "name                                   object\n",
       "host_id                                 int64\n",
       "host_since                     datetime64[ns]\n",
       "host_location                          object\n",
       "host_response_time                     object\n",
       "host_response_rate                    float64\n",
       "host_acceptance_rate                  float64\n",
       "host_is_superhost                      object\n",
       "host_total_listings_count             float64\n",
       "host_has_profile_pic                   object\n",
       "host_identity_verified                 object\n",
       "neighbourhood                          object\n",
       "district                               object\n",
       "city                                   object\n",
       "latitude                              float64\n",
       "longitude                             float64\n",
       "property_type                          object\n",
       "room_type                              object\n",
       "accommodates                            int64\n",
       "bedrooms                              float64\n",
       "amenities                              object\n",
       "price                                   int64\n",
       "minimum_nights                          int64\n",
       "maximum_nights                          int64\n",
       "review_scores_rating                  float64\n",
       "review_scores_accuracy                float64\n",
       "review_scores_cleanliness             float64\n",
       "review_scores_checkin                 float64\n",
       "review_scores_communication           float64\n",
       "review_scores_location                float64\n",
       "review_scores_value                   float64\n",
       "instant_bookable                       object\n",
       "dtype: object"
      ]
     },
     "execution_count": 147,
     "metadata": {},
     "output_type": "execute_result"
    }
   ],
   "source": [
    "# Check columns and datatypes\n",
    "listings.dtypes"
   ]
  },
  {
   "cell_type": "markdown",
   "id": "17b9a62f",
   "metadata": {},
   "source": [
    "#### Data Exploration"
   ]
  },
  {
   "cell_type": "code",
   "execution_count": 148,
   "id": "980235ab",
   "metadata": {},
   "outputs": [
    {
     "data": {
      "text/plain": [
       "Paris             64690\n",
       "New York          37012\n",
       "Sydney            33630\n",
       "Rome              27647\n",
       "Rio de Janeiro    26615\n",
       "Istanbul          24519\n",
       "Mexico City       20065\n",
       "Bangkok           19361\n",
       "Cape Town         19086\n",
       "Hong Kong          7087\n",
       "Name: city, dtype: int64"
      ]
     },
     "execution_count": 148,
     "metadata": {},
     "output_type": "execute_result"
    }
   ],
   "source": [
    "# How many listings for each city?\n",
    "listings['city'].value_counts(dropna=False)"
   ]
  },
  {
   "cell_type": "markdown",
   "id": "e1c96743",
   "metadata": {},
   "source": [
    "##### Observations\n",
    "- Paris has the most listings, followed by New York, then Sydney"
   ]
  },
  {
   "cell_type": "markdown",
   "id": "99f9494e",
   "metadata": {},
   "source": [
    "#### Data Analysis"
   ]
  },
  {
   "cell_type": "code",
   "execution_count": 149,
   "id": "5b3a6724",
   "metadata": {},
   "outputs": [],
   "source": [
    "# Create a dataframe for all Paris listings\n",
    "paris_df = listings.loc[listings['city']=='Paris']"
   ]
  },
  {
   "cell_type": "code",
   "execution_count": 150,
   "id": "9ea99aa0",
   "metadata": {},
   "outputs": [
    {
     "data": {
      "text/plain": [
       "(64690, 33)"
      ]
     },
     "execution_count": 150,
     "metadata": {},
     "output_type": "execute_result"
    }
   ],
   "source": [
    "# How many rows and columns?\n",
    "paris_df.shape"
   ]
  },
  {
   "cell_type": "code",
   "execution_count": 151,
   "id": "86b18e79",
   "metadata": {},
   "outputs": [
    {
     "data": {
      "text/html": [
       "<div>\n",
       "<style scoped>\n",
       "    .dataframe tbody tr th:only-of-type {\n",
       "        vertical-align: middle;\n",
       "    }\n",
       "\n",
       "    .dataframe tbody tr th {\n",
       "        vertical-align: top;\n",
       "    }\n",
       "\n",
       "    .dataframe thead th {\n",
       "        text-align: right;\n",
       "    }\n",
       "</style>\n",
       "<table border=\"1\" class=\"dataframe\">\n",
       "  <thead>\n",
       "    <tr style=\"text-align: right;\">\n",
       "      <th></th>\n",
       "      <th>listing_id</th>\n",
       "      <th>name</th>\n",
       "      <th>host_id</th>\n",
       "      <th>host_since</th>\n",
       "      <th>host_location</th>\n",
       "      <th>host_response_time</th>\n",
       "      <th>host_response_rate</th>\n",
       "      <th>host_acceptance_rate</th>\n",
       "      <th>host_is_superhost</th>\n",
       "      <th>host_total_listings_count</th>\n",
       "      <th>host_has_profile_pic</th>\n",
       "      <th>host_identity_verified</th>\n",
       "      <th>neighbourhood</th>\n",
       "      <th>district</th>\n",
       "      <th>city</th>\n",
       "      <th>latitude</th>\n",
       "      <th>longitude</th>\n",
       "      <th>property_type</th>\n",
       "      <th>room_type</th>\n",
       "      <th>accommodates</th>\n",
       "      <th>bedrooms</th>\n",
       "      <th>amenities</th>\n",
       "      <th>price</th>\n",
       "      <th>minimum_nights</th>\n",
       "      <th>maximum_nights</th>\n",
       "      <th>review_scores_rating</th>\n",
       "      <th>review_scores_accuracy</th>\n",
       "      <th>review_scores_cleanliness</th>\n",
       "      <th>review_scores_checkin</th>\n",
       "      <th>review_scores_communication</th>\n",
       "      <th>review_scores_location</th>\n",
       "      <th>review_scores_value</th>\n",
       "      <th>instant_bookable</th>\n",
       "    </tr>\n",
       "  </thead>\n",
       "  <tbody>\n",
       "    <tr>\n",
       "      <th>0</th>\n",
       "      <td>281420</td>\n",
       "      <td>Beautiful Flat in le Village Montmartre, Paris</td>\n",
       "      <td>1466919</td>\n",
       "      <td>2011-12-03</td>\n",
       "      <td>Paris, Ile-de-France, France</td>\n",
       "      <td>NaN</td>\n",
       "      <td>NaN</td>\n",
       "      <td>NaN</td>\n",
       "      <td>f</td>\n",
       "      <td>1.0</td>\n",
       "      <td>t</td>\n",
       "      <td>f</td>\n",
       "      <td>Buttes-Montmartre</td>\n",
       "      <td>NaN</td>\n",
       "      <td>Paris</td>\n",
       "      <td>48.88668</td>\n",
       "      <td>2.33343</td>\n",
       "      <td>Entire apartment</td>\n",
       "      <td>Entire place</td>\n",
       "      <td>2</td>\n",
       "      <td>1.0</td>\n",
       "      <td>[\"Heating\", \"Kitchen\", \"Washer\", \"Wifi\", \"Long...</td>\n",
       "      <td>53</td>\n",
       "      <td>2</td>\n",
       "      <td>1125</td>\n",
       "      <td>100.0</td>\n",
       "      <td>10.0</td>\n",
       "      <td>10.0</td>\n",
       "      <td>10.0</td>\n",
       "      <td>10.0</td>\n",
       "      <td>10.0</td>\n",
       "      <td>10.0</td>\n",
       "      <td>f</td>\n",
       "    </tr>\n",
       "    <tr>\n",
       "      <th>1</th>\n",
       "      <td>3705183</td>\n",
       "      <td>39 mÃÂ² Paris (Sacre CÃ",
       "âur)</td>\n",
       "      <td>10328771</td>\n",
       "      <td>2013-11-29</td>\n",
       "      <td>Paris, Ile-de-France, France</td>\n",
       "      <td>NaN</td>\n",
       "      <td>NaN</td>\n",
       "      <td>NaN</td>\n",
       "      <td>f</td>\n",
       "      <td>1.0</td>\n",
       "      <td>t</td>\n",
       "      <td>t</td>\n",
       "      <td>Buttes-Montmartre</td>\n",
       "      <td>NaN</td>\n",
       "      <td>Paris</td>\n",
       "      <td>48.88617</td>\n",
       "      <td>2.34515</td>\n",
       "      <td>Entire apartment</td>\n",
       "      <td>Entire place</td>\n",
       "      <td>2</td>\n",
       "      <td>1.0</td>\n",
       "      <td>[\"Shampoo\", \"Heating\", \"Kitchen\", \"Essentials\"...</td>\n",
       "      <td>120</td>\n",
       "      <td>2</td>\n",
       "      <td>1125</td>\n",
       "      <td>100.0</td>\n",
       "      <td>10.0</td>\n",
       "      <td>10.0</td>\n",
       "      <td>10.0</td>\n",
       "      <td>10.0</td>\n",
       "      <td>10.0</td>\n",
       "      <td>10.0</td>\n",
       "      <td>f</td>\n",
       "    </tr>\n",
       "    <tr>\n",
       "      <th>2</th>\n",
       "      <td>4082273</td>\n",
       "      <td>Lovely apartment with Terrace, 60m2</td>\n",
       "      <td>19252768</td>\n",
       "      <td>2014-07-31</td>\n",
       "      <td>Paris, Ile-de-France, France</td>\n",
       "      <td>NaN</td>\n",
       "      <td>NaN</td>\n",
       "      <td>NaN</td>\n",
       "      <td>f</td>\n",
       "      <td>1.0</td>\n",
       "      <td>t</td>\n",
       "      <td>f</td>\n",
       "      <td>Elysee</td>\n",
       "      <td>NaN</td>\n",
       "      <td>Paris</td>\n",
       "      <td>48.88112</td>\n",
       "      <td>2.31712</td>\n",
       "      <td>Entire apartment</td>\n",
       "      <td>Entire place</td>\n",
       "      <td>2</td>\n",
       "      <td>1.0</td>\n",
       "      <td>[\"Heating\", \"TV\", \"Kitchen\", \"Washer\", \"Wifi\",...</td>\n",
       "      <td>89</td>\n",
       "      <td>2</td>\n",
       "      <td>1125</td>\n",
       "      <td>100.0</td>\n",
       "      <td>10.0</td>\n",
       "      <td>10.0</td>\n",
       "      <td>10.0</td>\n",
       "      <td>10.0</td>\n",
       "      <td>10.0</td>\n",
       "      <td>10.0</td>\n",
       "      <td>f</td>\n",
       "    </tr>\n",
       "  </tbody>\n",
       "</table>\n",
       "</div>"
      ],
      "text/plain": [
       "   listing_id                                            name   host_id  \\\n",
       "0      281420  Beautiful Flat in le Village Montmartre, Paris   1466919   \n",
       "1     3705183                 39 mÃÂ² Paris (Sacre CÃ\n",
       "âur)  10328771   \n",
       "2     4082273             Lovely apartment with Terrace, 60m2  19252768   \n",
       "\n",
       "  host_since                 host_location host_response_time  \\\n",
       "0 2011-12-03  Paris, Ile-de-France, France                NaN   \n",
       "1 2013-11-29  Paris, Ile-de-France, France                NaN   \n",
       "2 2014-07-31  Paris, Ile-de-France, France                NaN   \n",
       "\n",
       "   host_response_rate  host_acceptance_rate host_is_superhost  \\\n",
       "0                 NaN                   NaN                 f   \n",
       "1                 NaN                   NaN                 f   \n",
       "2                 NaN                   NaN                 f   \n",
       "\n",
       "   host_total_listings_count host_has_profile_pic host_identity_verified  \\\n",
       "0                        1.0                    t                      f   \n",
       "1                        1.0                    t                      t   \n",
       "2                        1.0                    t                      f   \n",
       "\n",
       "       neighbourhood district   city  latitude  longitude     property_type  \\\n",
       "0  Buttes-Montmartre      NaN  Paris  48.88668    2.33343  Entire apartment   \n",
       "1  Buttes-Montmartre      NaN  Paris  48.88617    2.34515  Entire apartment   \n",
       "2             Elysee      NaN  Paris  48.88112    2.31712  Entire apartment   \n",
       "\n",
       "      room_type  accommodates  bedrooms  \\\n",
       "0  Entire place             2       1.0   \n",
       "1  Entire place             2       1.0   \n",
       "2  Entire place             2       1.0   \n",
       "\n",
       "                                           amenities  price  minimum_nights  \\\n",
       "0  [\"Heating\", \"Kitchen\", \"Washer\", \"Wifi\", \"Long...     53               2   \n",
       "1  [\"Shampoo\", \"Heating\", \"Kitchen\", \"Essentials\"...    120               2   \n",
       "2  [\"Heating\", \"TV\", \"Kitchen\", \"Washer\", \"Wifi\",...     89               2   \n",
       "\n",
       "   maximum_nights  review_scores_rating  review_scores_accuracy  \\\n",
       "0            1125                 100.0                    10.0   \n",
       "1            1125                 100.0                    10.0   \n",
       "2            1125                 100.0                    10.0   \n",
       "\n",
       "   review_scores_cleanliness  review_scores_checkin  \\\n",
       "0                       10.0                   10.0   \n",
       "1                       10.0                   10.0   \n",
       "2                       10.0                   10.0   \n",
       "\n",
       "   review_scores_communication  review_scores_location  review_scores_value  \\\n",
       "0                         10.0                    10.0                 10.0   \n",
       "1                         10.0                    10.0                 10.0   \n",
       "2                         10.0                    10.0                 10.0   \n",
       "\n",
       "  instant_bookable  \n",
       "0                f  \n",
       "1                f  \n",
       "2                f  "
      ]
     },
     "execution_count": 151,
     "metadata": {},
     "output_type": "execute_result"
    }
   ],
   "source": [
    "# Check first 3 rows\n",
    "paris_df.head(3)"
   ]
  },
  {
   "cell_type": "code",
   "execution_count": 152,
   "id": "282e4155",
   "metadata": {},
   "outputs": [],
   "source": [
    "# Filter dataframe for only required columns for analysis\n",
    "paris_filtered = paris_df.loc[:, ['host_since', 'neighbourhood', 'city', 'accommodates', 'price']]"
   ]
  },
  {
   "cell_type": "code",
   "execution_count": 153,
   "id": "0f7d8575",
   "metadata": {},
   "outputs": [
    {
     "data": {
      "text/html": [
       "<div>\n",
       "<style scoped>\n",
       "    .dataframe tbody tr th:only-of-type {\n",
       "        vertical-align: middle;\n",
       "    }\n",
       "\n",
       "    .dataframe tbody tr th {\n",
       "        vertical-align: top;\n",
       "    }\n",
       "\n",
       "    .dataframe thead th {\n",
       "        text-align: right;\n",
       "    }\n",
       "</style>\n",
       "<table border=\"1\" class=\"dataframe\">\n",
       "  <thead>\n",
       "    <tr style=\"text-align: right;\">\n",
       "      <th></th>\n",
       "      <th>host_since</th>\n",
       "      <th>neighbourhood</th>\n",
       "      <th>city</th>\n",
       "      <th>accommodates</th>\n",
       "      <th>price</th>\n",
       "    </tr>\n",
       "  </thead>\n",
       "  <tbody>\n",
       "    <tr>\n",
       "      <th>0</th>\n",
       "      <td>2011-12-03</td>\n",
       "      <td>Buttes-Montmartre</td>\n",
       "      <td>Paris</td>\n",
       "      <td>2</td>\n",
       "      <td>53</td>\n",
       "    </tr>\n",
       "    <tr>\n",
       "      <th>1</th>\n",
       "      <td>2013-11-29</td>\n",
       "      <td>Buttes-Montmartre</td>\n",
       "      <td>Paris</td>\n",
       "      <td>2</td>\n",
       "      <td>120</td>\n",
       "    </tr>\n",
       "    <tr>\n",
       "      <th>2</th>\n",
       "      <td>2014-07-31</td>\n",
       "      <td>Elysee</td>\n",
       "      <td>Paris</td>\n",
       "      <td>2</td>\n",
       "      <td>89</td>\n",
       "    </tr>\n",
       "    <tr>\n",
       "      <th>3</th>\n",
       "      <td>2013-12-17</td>\n",
       "      <td>Vaugirard</td>\n",
       "      <td>Paris</td>\n",
       "      <td>2</td>\n",
       "      <td>58</td>\n",
       "    </tr>\n",
       "    <tr>\n",
       "      <th>4</th>\n",
       "      <td>2014-12-14</td>\n",
       "      <td>Passy</td>\n",
       "      <td>Paris</td>\n",
       "      <td>2</td>\n",
       "      <td>60</td>\n",
       "    </tr>\n",
       "  </tbody>\n",
       "</table>\n",
       "</div>"
      ],
      "text/plain": [
       "  host_since      neighbourhood   city  accommodates  price\n",
       "0 2011-12-03  Buttes-Montmartre  Paris             2     53\n",
       "1 2013-11-29  Buttes-Montmartre  Paris             2    120\n",
       "2 2014-07-31             Elysee  Paris             2     89\n",
       "3 2013-12-17          Vaugirard  Paris             2     58\n",
       "4 2014-12-14              Passy  Paris             2     60"
      ]
     },
     "execution_count": 153,
     "metadata": {},
     "output_type": "execute_result"
    }
   ],
   "source": [
    "# Check first 5 rows\n",
    "paris_filtered.head()"
   ]
  },
  {
   "cell_type": "code",
   "execution_count": 154,
   "id": "dfbd923c",
   "metadata": {},
   "outputs": [
    {
     "data": {
      "text/html": [
       "<div>\n",
       "<style scoped>\n",
       "    .dataframe tbody tr th:only-of-type {\n",
       "        vertical-align: middle;\n",
       "    }\n",
       "\n",
       "    .dataframe tbody tr th {\n",
       "        vertical-align: top;\n",
       "    }\n",
       "\n",
       "    .dataframe thead th {\n",
       "        text-align: right;\n",
       "    }\n",
       "</style>\n",
       "<table border=\"1\" class=\"dataframe\">\n",
       "  <thead>\n",
       "    <tr style=\"text-align: right;\">\n",
       "      <th></th>\n",
       "      <th>accommodates</th>\n",
       "      <th>price</th>\n",
       "    </tr>\n",
       "  </thead>\n",
       "  <tbody>\n",
       "    <tr>\n",
       "      <th>count</th>\n",
       "      <td>64690.000000</td>\n",
       "      <td>64690.000000</td>\n",
       "    </tr>\n",
       "    <tr>\n",
       "      <th>mean</th>\n",
       "      <td>3.037997</td>\n",
       "      <td>113.096445</td>\n",
       "    </tr>\n",
       "    <tr>\n",
       "      <th>std</th>\n",
       "      <td>1.588766</td>\n",
       "      <td>214.433668</td>\n",
       "    </tr>\n",
       "    <tr>\n",
       "      <th>min</th>\n",
       "      <td>0.000000</td>\n",
       "      <td>0.000000</td>\n",
       "    </tr>\n",
       "    <tr>\n",
       "      <th>25%</th>\n",
       "      <td>2.000000</td>\n",
       "      <td>59.000000</td>\n",
       "    </tr>\n",
       "    <tr>\n",
       "      <th>50%</th>\n",
       "      <td>2.000000</td>\n",
       "      <td>80.000000</td>\n",
       "    </tr>\n",
       "    <tr>\n",
       "      <th>75%</th>\n",
       "      <td>4.000000</td>\n",
       "      <td>120.000000</td>\n",
       "    </tr>\n",
       "    <tr>\n",
       "      <th>max</th>\n",
       "      <td>16.000000</td>\n",
       "      <td>12000.000000</td>\n",
       "    </tr>\n",
       "  </tbody>\n",
       "</table>\n",
       "</div>"
      ],
      "text/plain": [
       "       accommodates         price\n",
       "count  64690.000000  64690.000000\n",
       "mean       3.037997    113.096445\n",
       "std        1.588766    214.433668\n",
       "min        0.000000      0.000000\n",
       "25%        2.000000     59.000000\n",
       "50%        2.000000     80.000000\n",
       "75%        4.000000    120.000000\n",
       "max       16.000000  12000.000000"
      ]
     },
     "execution_count": 154,
     "metadata": {},
     "output_type": "execute_result"
    }
   ],
   "source": [
    "# Check statistics for numerical columns\n",
    "paris_filtered.describe()"
   ]
  },
  {
   "cell_type": "markdown",
   "id": "68f181f7",
   "metadata": {},
   "source": [
    "##### Observations\n",
    "- The median number of people that an Airbnb accomodates is 2, and the maximum is 16\n",
    "- The median price per night for a listing in Paris is 80 Euros while the maximum is 12,000 Euros"
   ]
  },
  {
   "cell_type": "code",
   "execution_count": 155,
   "id": "a68cfe42",
   "metadata": {},
   "outputs": [
    {
     "data": {
      "text/plain": [
       "host_since       33\n",
       "neighbourhood     0\n",
       "city              0\n",
       "accommodates      0\n",
       "price             0\n",
       "dtype: int64"
      ]
     },
     "execution_count": 155,
     "metadata": {},
     "output_type": "execute_result"
    }
   ],
   "source": [
    "# How many null values?\n",
    "paris_filtered.isna().sum()"
   ]
  },
  {
   "cell_type": "markdown",
   "id": "035ccee9",
   "metadata": {},
   "source": [
    "#### 1. What is the average price per night for each neighbourhood in Paris and how many listings are there?"
   ]
  },
  {
   "cell_type": "code",
   "execution_count": 156,
   "id": "57885190",
   "metadata": {},
   "outputs": [],
   "source": [
    "paris_listings_neighbourhood = paris_filtered.groupby('neighbourhood').agg({'price': 'mean', 'neighbourhood':'count'})"
   ]
  },
  {
   "cell_type": "code",
   "execution_count": 157,
   "id": "9a610dfb",
   "metadata": {},
   "outputs": [],
   "source": [
    "# Sort by Price in descending order (highest to lowest)\n",
    "paris_listings_neighbourhood = paris_listings_neighbourhood.sort_values(by='price')"
   ]
  },
  {
   "cell_type": "code",
   "execution_count": 158,
   "id": "2376f6d3",
   "metadata": {},
   "outputs": [
    {
     "data": {
      "image/png": "[encoded data removed]",
      "text/plain": [
       "<Figure size 576x360 with 1 Axes>"
      ]
     },
     "metadata": {
      "needs_background": "light"
     },
     "output_type": "display_data"
    }
   ],
   "source": [
    "# Plot Average Price per Night by Neighbourhood\n",
    "fig, ax = plt.subplots(figsize=(8,5))\n",
    "\n",
    "ax.barh(paris_listings_neighbourhood.index, paris_listings_neighbourhood['price'])\n",
    "ax.grid(alpha=0.5, axis='x')\n",
    "\n",
    "ax.set_title('Average Listing Price by Paris Neighbourhoods', size=16)\n",
    "ax.set_xlabel('Average Price per Night (Euros)', size=12)\n",
    "ax.set_ylabel('Neighbourhood', size=12)\n",
    "\n",
    "ax.spines['top'].set_visible(False)\n",
    "ax.spines['right'].set_visible(False);"
   ]
  },
  {
   "cell_type": "markdown",
   "id": "c2ea15f7",
   "metadata": {},
   "source": [
    "#### Observations\n",
    "- The most expensive neighbourhood in Paris is Elysee with an average price per night of roughly 210 Euros.\n",
    "- The least expensive neighbourhood in Paris is Menimontant with an average price per night of roughly 75 Euros."
   ]
  },
  {
   "cell_type": "code",
   "execution_count": null,
   "id": "100fa274",
   "metadata": {},
   "outputs": [],
   "source": []
  },
  {
   "cell_type": "markdown",
   "id": "f352d59f",
   "metadata": {},
   "source": [
    "#### What is the average price per night by accomodation capacity for listings in Elysee?"
   ]
  },
  {
   "cell_type": "code",
   "execution_count": 159,
   "id": "ef3763a2",
   "metadata": {},
   "outputs": [
    {
     "data": {
      "text/plain": [
       "(1768, 5)"
      ]
     },
     "execution_count": 159,
     "metadata": {},
     "output_type": "execute_result"
    }
   ],
   "source": [
    "most_expensive = paris_filtered.query(\"neighbourhood == 'Elysee'\")\n",
    "\n",
    "most_expensive.shape"
   ]
  },
  {
   "cell_type": "code",
   "execution_count": 160,
   "id": "9368f296",
   "metadata": {},
   "outputs": [
    {
     "data": {
      "text/html": [
       "<div>\n",
       "<style scoped>\n",
       "    .dataframe tbody tr th:only-of-type {\n",
       "        vertical-align: middle;\n",
       "    }\n",
       "\n",
       "    .dataframe tbody tr th {\n",
       "        vertical-align: top;\n",
       "    }\n",
       "\n",
       "    .dataframe thead th {\n",
       "        text-align: right;\n",
       "    }\n",
       "</style>\n",
       "<table border=\"1\" class=\"dataframe\">\n",
       "  <thead>\n",
       "    <tr style=\"text-align: right;\">\n",
       "      <th></th>\n",
       "      <th>price</th>\n",
       "      <th>neighbourhood</th>\n",
       "    </tr>\n",
       "    <tr>\n",
       "      <th>accommodates</th>\n",
       "      <th></th>\n",
       "      <th></th>\n",
       "    </tr>\n",
       "  </thead>\n",
       "  <tbody>\n",
       "    <tr>\n",
       "      <th>0</th>\n",
       "      <td>0.000000</td>\n",
       "      <td>6</td>\n",
       "    </tr>\n",
       "    <tr>\n",
       "      <th>1</th>\n",
       "      <td>79.522222</td>\n",
       "      <td>90</td>\n",
       "    </tr>\n",
       "    <tr>\n",
       "      <th>3</th>\n",
       "      <td>152.828767</td>\n",
       "      <td>146</td>\n",
       "    </tr>\n",
       "    <tr>\n",
       "      <th>2</th>\n",
       "      <td>155.103352</td>\n",
       "      <td>716</td>\n",
       "    </tr>\n",
       "    <tr>\n",
       "      <th>4</th>\n",
       "      <td>212.096070</td>\n",
       "      <td>458</td>\n",
       "    </tr>\n",
       "    <tr>\n",
       "      <th>5</th>\n",
       "      <td>328.817073</td>\n",
       "      <td>82</td>\n",
       "    </tr>\n",
       "    <tr>\n",
       "      <th>6</th>\n",
       "      <td>355.508571</td>\n",
       "      <td>175</td>\n",
       "    </tr>\n",
       "    <tr>\n",
       "      <th>8</th>\n",
       "      <td>405.518519</td>\n",
       "      <td>27</td>\n",
       "    </tr>\n",
       "    <tr>\n",
       "      <th>7</th>\n",
       "      <td>411.538462</td>\n",
       "      <td>26</td>\n",
       "    </tr>\n",
       "    <tr>\n",
       "      <th>9</th>\n",
       "      <td>440.272727</td>\n",
       "      <td>11</td>\n",
       "    </tr>\n",
       "    <tr>\n",
       "      <th>10</th>\n",
       "      <td>500.857143</td>\n",
       "      <td>14</td>\n",
       "    </tr>\n",
       "    <tr>\n",
       "      <th>12</th>\n",
       "      <td>529.625000</td>\n",
       "      <td>8</td>\n",
       "    </tr>\n",
       "    <tr>\n",
       "      <th>16</th>\n",
       "      <td>800.000000</td>\n",
       "      <td>1</td>\n",
       "    </tr>\n",
       "    <tr>\n",
       "      <th>11</th>\n",
       "      <td>805.000000</td>\n",
       "      <td>4</td>\n",
       "    </tr>\n",
       "    <tr>\n",
       "      <th>13</th>\n",
       "      <td>842.500000</td>\n",
       "      <td>2</td>\n",
       "    </tr>\n",
       "    <tr>\n",
       "      <th>14</th>\n",
       "      <td>971.000000</td>\n",
       "      <td>2</td>\n",
       "    </tr>\n",
       "  </tbody>\n",
       "</table>\n",
       "</div>"
      ],
      "text/plain": [
       "                   price  neighbourhood\n",
       "accommodates                           \n",
       "0               0.000000              6\n",
       "1              79.522222             90\n",
       "3             152.828767            146\n",
       "2             155.103352            716\n",
       "4             212.096070            458\n",
       "5             328.817073             82\n",
       "6             355.508571            175\n",
       "8             405.518519             27\n",
       "7             411.538462             26\n",
       "9             440.272727             11\n",
       "10            500.857143             14\n",
       "12            529.625000              8\n",
       "16            800.000000              1\n",
       "11            805.000000              4\n",
       "13            842.500000              2\n",
       "14            971.000000              2"
      ]
     },
     "execution_count": 160,
     "metadata": {},
     "output_type": "execute_result"
    }
   ],
   "source": [
    "paris_listings_accomodations = most_expensive.groupby('accommodates').agg({'price': 'mean', 'neighbourhood': 'count'})\n",
    "\n",
    "sorted_df = paris_listings_accomodations.sort_values(by='price')\n",
    "\n",
    "sorted_df"
   ]
  },
  {
   "cell_type": "code",
   "execution_count": 165,
   "id": "88b42765",
   "metadata": {},
   "outputs": [
    {
     "data": {
      "image/png": "[encoded data removed]",
      "text/plain": [
       "<Figure size 576x360 with 1 Axes>"
      ]
     },
     "metadata": {
      "needs_background": "light"
     },
     "output_type": "display_data"
    }
   ],
   "source": [
    "fig, ax = plt.subplots(figsize=(8,5))\n",
    "\n",
    "sorted_df['price'].plot(kind='barh', color='purple')\n",
    "\n",
    "# ax.set_yticks(positions)\n",
    "\n",
    "ax.grid(alpha=0.5, axis='x')\n",
    "\n",
    "ax.set_title('Average Listing Price by Accomodation', size=16)\n",
    "ax.set_xlabel('Average Price per Night (Euros)', size=14)\n",
    "ax.set_ylabel('Accommodation Capacity', size=14)\n",
    "\n",
    "ax.spines['top'].set_visible(False)\n",
    "ax.spines['right'].set_visible(False);"
   ]
  },
  {
   "cell_type": "markdown",
   "id": "58f499d9",
   "metadata": {},
   "source": [
    "#### Observations\n",
    "- There are 1768 listings in Elysee\n",
    "- The accommodation capacity with the highest average price per night in Elysee is 14. \n",
    "- The reason that 16 isn't the highest because there is only 1 listing which accommodates 16 people.\n",
    "- A majority of the listings accommodate 2 people"
   ]
  },
  {
   "cell_type": "markdown",
   "id": "26d54c25",
   "metadata": {},
   "source": [
    "#### How many listings each year and what was the average price each year?"
   ]
  },
  {
   "cell_type": "code",
   "execution_count": 111,
   "id": "e474e055",
   "metadata": {},
   "outputs": [],
   "source": [
    "# paris_filtered.set_index('host_since').resample('Y').agg({'price': 'mean', 'neighbourhood': 'count'})"
   ]
  },
  {
   "cell_type": "code",
   "execution_count": 110,
   "id": "ad828db4",
   "metadata": {},
   "outputs": [
    {
     "data": {
      "text/html": [
       "<div>\n",
       "<style scoped>\n",
       "    .dataframe tbody tr th:only-of-type {\n",
       "        vertical-align: middle;\n",
       "    }\n",
       "\n",
       "    .dataframe tbody tr th {\n",
       "        vertical-align: top;\n",
       "    }\n",
       "\n",
       "    .dataframe thead th {\n",
       "        text-align: right;\n",
       "    }\n",
       "</style>\n",
       "<table border=\"1\" class=\"dataframe\">\n",
       "  <thead>\n",
       "    <tr style=\"text-align: right;\">\n",
       "      <th></th>\n",
       "      <th>price</th>\n",
       "      <th>neighbourhood</th>\n",
       "    </tr>\n",
       "    <tr>\n",
       "      <th>host_since</th>\n",
       "      <th></th>\n",
       "      <th></th>\n",
       "    </tr>\n",
       "  </thead>\n",
       "  <tbody>\n",
       "    <tr>\n",
       "      <th>2008.0</th>\n",
       "      <td>77.750000</td>\n",
       "      <td>4</td>\n",
       "    </tr>\n",
       "    <tr>\n",
       "      <th>2009.0</th>\n",
       "      <td>159.641509</td>\n",
       "      <td>106</td>\n",
       "    </tr>\n",
       "    <tr>\n",
       "      <th>2010.0</th>\n",
       "      <td>125.031250</td>\n",
       "      <td>416</td>\n",
       "    </tr>\n",
       "    <tr>\n",
       "      <th>2011.0</th>\n",
       "      <td>124.828230</td>\n",
       "      <td>1339</td>\n",
       "    </tr>\n",
       "    <tr>\n",
       "      <th>2012.0</th>\n",
       "      <td>111.578615</td>\n",
       "      <td>4592</td>\n",
       "    </tr>\n",
       "    <tr>\n",
       "      <th>2013.0</th>\n",
       "      <td>107.096414</td>\n",
       "      <td>8142</td>\n",
       "    </tr>\n",
       "    <tr>\n",
       "      <th>2014.0</th>\n",
       "      <td>100.253800</td>\n",
       "      <td>10922</td>\n",
       "    </tr>\n",
       "    <tr>\n",
       "      <th>2015.0</th>\n",
       "      <td>103.646250</td>\n",
       "      <td>12147</td>\n",
       "    </tr>\n",
       "    <tr>\n",
       "      <th>2016.0</th>\n",
       "      <td>114.159847</td>\n",
       "      <td>8871</td>\n",
       "    </tr>\n",
       "    <tr>\n",
       "      <th>2017.0</th>\n",
       "      <td>108.658888</td>\n",
       "      <td>4585</td>\n",
       "    </tr>\n",
       "    <tr>\n",
       "      <th>2018.0</th>\n",
       "      <td>138.209362</td>\n",
       "      <td>4294</td>\n",
       "    </tr>\n",
       "    <tr>\n",
       "      <th>2019.0</th>\n",
       "      <td>129.757113</td>\n",
       "      <td>5694</td>\n",
       "    </tr>\n",
       "    <tr>\n",
       "      <th>2020.0</th>\n",
       "      <td>141.456038</td>\n",
       "      <td>3412</td>\n",
       "    </tr>\n",
       "    <tr>\n",
       "      <th>2021.0</th>\n",
       "      <td>93.488722</td>\n",
       "      <td>133</td>\n",
       "    </tr>\n",
       "  </tbody>\n",
       "</table>\n",
       "</div>"
      ],
      "text/plain": [
       "                 price  neighbourhood\n",
       "host_since                           \n",
       "2008.0       77.750000              4\n",
       "2009.0      159.641509            106\n",
       "2010.0      125.031250            416\n",
       "2011.0      124.828230           1339\n",
       "2012.0      111.578615           4592\n",
       "2013.0      107.096414           8142\n",
       "2014.0      100.253800          10922\n",
       "2015.0      103.646250          12147\n",
       "2016.0      114.159847           8871\n",
       "2017.0      108.658888           4585\n",
       "2018.0      138.209362           4294\n",
       "2019.0      129.757113           5694\n",
       "2020.0      141.456038           3412\n",
       "2021.0       93.488722            133"
      ]
     },
     "execution_count": 110,
     "metadata": {},
     "output_type": "execute_result"
    }
   ],
   "source": [
    "paris_listings_over_time = (paris_filtered.groupby(paris_filtered['host_since'].dt.year)\n",
    "                                          .agg({'price': 'mean', 'neighbourhood': 'count'})\n",
    "                           )\n",
    "\n",
    "paris_listings_over_time"
   ]
  },
  {
   "cell_type": "code",
   "execution_count": 119,
   "id": "8739e10f",
   "metadata": {},
   "outputs": [
    {
     "data": {
      "image/png": "[encoded data removed]",
      "text/plain": [
       "<Figure size 720x432 with 1 Axes>"
      ]
     },
     "metadata": {
      "needs_background": "light"
     },
     "output_type": "display_data"
    }
   ],
   "source": [
    "# Plot average price by year\n",
    "fig, ax = plt.subplots(figsize=(10,6))\n",
    "\n",
    "ax.plot(paris_listings_over_time.index, paris_listings_over_time['price'], marker='o')\n",
    "\n",
    "ax.set_title('Average Price by Year', size=16)\n",
    "ax.set_xlabel('Year', size=14)\n",
    "ax.set_ylabel('Average Price', size=14)\n",
    "\n",
    "ax.set_ylim(0)\n",
    "ax.spines['top'].set_visible(False)\n",
    "ax.spines['right'].set_visible(False)\n",
    "ax.grid(alpha=0.5);"
   ]
  },
  {
   "cell_type": "code",
   "execution_count": 120,
   "id": "0a6913f1",
   "metadata": {},
   "outputs": [
    {
     "data": {
      "image/png": "[encoded data removed]",
      "text/plain": [
       "<Figure size 720x432 with 1 Axes>"
      ]
     },
     "metadata": {
      "needs_background": "light"
     },
     "output_type": "display_data"
    }
   ],
   "source": [
    "# Plot number of listings by year\n",
    "fig, ax = plt.subplots(figsize=(10,6))\n",
    "\n",
    "ax.plot(paris_listings_over_time.index, paris_listings_over_time['neighbourhood'], marker='o')\n",
    "\n",
    "ax.set_title('Number of Listings by Year', size=16)\n",
    "ax.set_xlabel('Year', size=14)\n",
    "ax.set_ylabel('Number of Listings', size=14)\n",
    "\n",
    "ax.set_ylim(0)\n",
    "ax.spines['top'].set_visible(False)\n",
    "ax.spines['right'].set_visible(False)\n",
    "ax.grid(alpha=0.5);"
   ]
  },
  {
   "cell_type": "code",
   "execution_count": 167,
   "id": "d42b7f82",
   "metadata": {},
   "outputs": [
    {
     "data": {
      "image/png": "[encoded data removed]",
      "text/plain": [
       "<Figure size 720x432 with 2 Axes>"
      ]
     },
     "metadata": {
      "needs_background": "light"
     },
     "output_type": "display_data"
    }
   ],
   "source": [
    "fig, ax = plt.subplots(figsize=(10,6))\n",
    "\n",
    "ax2 = ax.twinx()\n",
    "ax.set_title('2015 Regulations Lead to Fewer New Hosts, Higher Prices', size=16)\n",
    "\n",
    "ax.plot(paris_listings_over_time.index, paris_listings_over_time['price'], marker='o', color='cornflowerblue')\n",
    "ax.set_ylim(0)\n",
    "ax.set_ylabel('Average Price', color='cornflowerblue', size=14)\n",
    "ax.grid(alpha=0.25)\n",
    "\n",
    "ax2.plot(paris_listings_over_time.index, paris_listings_over_time['neighbourhood'], marker='o', color='orange', alpha=0.5)\n",
    "ax2.set_ylabel('Number of Listings', color='orange', size=14)\n",
    "ax2.set_ylim(0)\n",
    "\n",
    "ax2.grid(alpha=0.25)\n",
    "\n",
    "ax.spines['top'].set_visible(False)\n",
    "ax.spines['right'].set_visible(False)\n",
    "ax2.spines['top'].set_visible(False)\n",
    "ax2.spines['right'].set_visible(False)"
   ]
  },
  {
   "cell_type": "markdown",
   "id": "3ff1f8b2",
   "metadata": {},
   "source": [
    "#### Insights\n",
    "- There were very few hosts when Airbnb first launched, but listings took off in 2012 as popularity grew. Listings increased rapidly until 2015 reaching a peak of over 12000 listings. As listings increased and the market became more competitive, prices started to steadily decrease.\n",
    "- Regulations were put into place in 2015 because there were a lot of complaints about housing prices going up. The goverment put restrictions on who could list and how long they could list for. As a result, the number of listings dropped precipitously in 2016, and bottomed out in 2020 with under 4000 listings.\n",
    "- Since there were fewer listings, prices started to steadily go back up as there was now less competition in the marketplace. Prices peaked in 2020 with average nightly prices being 140 Euros, an almost 40 Euro increase from 2015."
   ]
  },
  {
   "cell_type": "code",
   "execution_count": null,
   "id": "e564063d",
   "metadata": {},
   "outputs": [],
   "source": []
  }
 ],
 "metadata": {
  "kernelspec": {
   "display_name": "Python 3 (ipykernel)",
   "language": "python",
   "name": "python3"
  },
  "language_info": {
   "codemirror_mode": {
    "name": "ipython",
    "version": 3
   },
   "file_extension": ".py",
   "mimetype": "text/x-python",
   "name": "python",
   "nbconvert_exporter": "python",
   "pygments_lexer": "ipython3",
   "version": "3.9.7"
  }
 },
 "nbformat": 4,
 "nbformat_minor": 5
}
